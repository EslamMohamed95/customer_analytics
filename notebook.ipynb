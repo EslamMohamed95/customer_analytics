{
 "cells": [
  {
   "source": [
    "![Two data scientists working on a dashboard.](hr-image-small.png)\n",
    "\n",
    "A common problem when creating models to generate business value from data is that the datasets can be so large that it can take days for the model to generate predictions. Ensuring that your dataset is stored as efficiently as possible is crucial for allowing these models to run on a more reasonable timescale without having to reduce the size of the dataset.\n",
    "\n",
    "You've been hired by a major online data science training provider called *Training Data Ltd.* to clean up one of their largest customer datasets. This dataset will eventually be used to predict whether their students are looking for a new job or not, information that they will then use to direct them to prospective recruiters.\n",
    "\n",
    "You've been given access to `customer_train.csv`, which is a subset of their entire customer dataset, so you can create a proof-of-concept of a much more efficient storage solution. The dataset contains anonymized student information, and whether they were looking for a new job or not during training:\n",
    "\n",
    "| Column                   | Description                                                                      |\n",
    "|--------------------------|----------------------------------------------------------------------------------|\n",
    "| `student_id`             | A unique ID for each student.                                                    |\n",
    "| `city`                   | A code for the city the student lives in.                                        |\n",
    "| `city_development_index` | A scaled development index for the city.                                         |\n",
    "| `gender`                 | The student's gender.                                                            |\n",
    "| `relevant_experience`    | An indicator of the student's relevant experience.                               |\n",
    "| `enrolled_university`    | The type of university course enrolled in (if any).                              |\n",
    "| `education_level`        | The student's education level.                                                   |\n",
    "| `major_discipline`       | The educational discipline of the student.                                       |\n",
    "| `experience`             | The student's total experience (in years).                                       |\n",
    "| `company_size`           | The number of employees at the student's current employer.                       |\n",
    "| `last_new_job`           | The number of years between the student's current and previous jobs.             |\n",
    "| `training_hours`         | The number of hours of training completed.                                       |\n",
    "| `job_change`             | An indicator of whether the student is looking for a new job (`1`) or not (`0`). |"
   ],
   "metadata": {},
   "id": "a09e6d54-bf3f-4632-b299-bd49d5c80d5f",
   "cell_type": "markdown"
  },
  {
   "source": [
    "# Imports\n",
    "import pandas as pd"
   ],
   "metadata": {
    "executionTime": 25,
    "lastSuccessfullyExecutedCode": "# Start your code here!\nimport pandas as pd"
   },
   "id": "eda9c1b2-4e9a-41ac-8da6-d4c98775f986",
   "cell_type": "code",
   "execution_count": 1,
   "outputs": []
  },
  {
   "cell_type": "code",
   "execution_count": 2,
   "outputs": [],
   "source": [
    "# Load the dataset\n",
    "ds_jobs = pd.read_csv(\"customer_train.csv\")\n",
    "ds_jobs_clean = ds_jobs.copy()"
   ],
   "metadata": {
    "collapsed": false
   }
  },
  {
   "cell_type": "markdown",
   "source": [
    "### Data Exploring"
   ],
   "metadata": {
    "collapsed": false
   }
  },
  {
   "cell_type": "code",
   "execution_count": 5,
   "outputs": [
    {
     "data": {
      "text/plain": "    student_id      city  city_development_index  gender  \\\n0         8949  city_103                   0.920    Male   \n1        29725   city_40                   0.776    Male   \n2        11561   city_21                   0.624     NaN   \n3        33241  city_115                   0.789     NaN   \n4          666  city_162                   0.767    Male   \n5        21651  city_176                   0.764     NaN   \n6        28806  city_160                   0.920    Male   \n7          402   city_46                   0.762    Male   \n8        27107  city_103                   0.920    Male   \n9          699  city_103                   0.920     NaN   \n10       29452   city_21                   0.624     NaN   \n11       23853  city_103                   0.920    Male   \n12       25619   city_61                   0.913    Male   \n13        5826   city_21                   0.624    Male   \n14        8722   city_21                   0.624     NaN   \n15        6588  city_114                   0.926    Male   \n16        4167  city_103                   0.920     NaN   \n17        5764   city_21                   0.624     NaN   \n18        2156   city_21                   0.624     NaN   \n19       11399   city_13                   0.827  Female   \n\n        relevant_experience enrolled_university education_level  \\\n0   Has relevant experience       no_enrollment        Graduate   \n1    No relevant experience       no_enrollment        Graduate   \n2    No relevant experience    Full time course        Graduate   \n3    No relevant experience                 NaN        Graduate   \n4   Has relevant experience       no_enrollment         Masters   \n5   Has relevant experience    Part time course        Graduate   \n6   Has relevant experience       no_enrollment     High School   \n7   Has relevant experience       no_enrollment        Graduate   \n8   Has relevant experience       no_enrollment        Graduate   \n9   Has relevant experience       no_enrollment        Graduate   \n10   No relevant experience    Full time course     High School   \n11  Has relevant experience       no_enrollment        Graduate   \n12  Has relevant experience       no_enrollment        Graduate   \n13   No relevant experience                 NaN             NaN   \n14   No relevant experience    Full time course     High School   \n15  Has relevant experience       no_enrollment        Graduate   \n16  Has relevant experience       no_enrollment        Graduate   \n17  Has relevant experience       no_enrollment        Graduate   \n18  Has relevant experience       no_enrollment        Graduate   \n19  Has relevant experience       no_enrollment        Graduate   \n\n   major_discipline experience company_size    company_type last_new_job  \\\n0              STEM        >20          NaN             NaN            1   \n1              STEM         15        50-99         Pvt Ltd           >4   \n2              STEM          5          NaN             NaN        never   \n3   Business Degree         <1          NaN         Pvt Ltd        never   \n4              STEM        >20        50-99  Funded Startup            4   \n5              STEM         11          NaN             NaN            1   \n6               NaN          5        50-99  Funded Startup            1   \n7              STEM         13          <10         Pvt Ltd           >4   \n8              STEM          7        50-99         Pvt Ltd            1   \n9              STEM         17       10000+         Pvt Ltd           >4   \n10              NaN          2          NaN             NaN        never   \n11             STEM          5    5000-9999         Pvt Ltd            1   \n12             STEM        >20    1000-4999         Pvt Ltd            3   \n13              NaN          2          NaN             NaN        never   \n14              NaN          5          NaN             NaN        never   \n15             STEM         16        10-49         Pvt Ltd           >4   \n16             STEM          1        50-99         Pvt Ltd        never   \n17             STEM          2    5000-9999         Pvt Ltd            2   \n18             STEM          7       10000+         Pvt Ltd        never   \n19             Arts          4          NaN             NaN            1   \n\n    training_hours  job_change  \n0               36         1.0  \n1               47         0.0  \n2               83         0.0  \n3               52         1.0  \n4                8         0.0  \n5               24         1.0  \n6               24         0.0  \n7               18         1.0  \n8               46         1.0  \n9              123         0.0  \n10              32         1.0  \n11             108         0.0  \n12              23         0.0  \n13              24         0.0  \n14              26         0.0  \n15              18         0.0  \n16             106         0.0  \n17               7         0.0  \n18              23         1.0  \n19             132         1.0  ",
      "text/html": "<div>\n<style scoped>\n    .dataframe tbody tr th:only-of-type {\n        vertical-align: middle;\n    }\n\n    .dataframe tbody tr th {\n        vertical-align: top;\n    }\n\n    .dataframe thead th {\n        text-align: right;\n    }\n</style>\n<table border=\"1\" class=\"dataframe\">\n  <thead>\n    <tr style=\"text-align: right;\">\n      <th></th>\n      <th>student_id</th>\n      <th>city</th>\n      <th>city_development_index</th>\n      <th>gender</th>\n      <th>relevant_experience</th>\n      <th>enrolled_university</th>\n      <th>education_level</th>\n      <th>major_discipline</th>\n      <th>experience</th>\n      <th>company_size</th>\n      <th>company_type</th>\n      <th>last_new_job</th>\n      <th>training_hours</th>\n      <th>job_change</th>\n    </tr>\n  </thead>\n  <tbody>\n    <tr>\n      <th>0</th>\n      <td>8949</td>\n      <td>city_103</td>\n      <td>0.920</td>\n      <td>Male</td>\n      <td>Has relevant experience</td>\n      <td>no_enrollment</td>\n      <td>Graduate</td>\n      <td>STEM</td>\n      <td>&gt;20</td>\n      <td>NaN</td>\n      <td>NaN</td>\n      <td>1</td>\n      <td>36</td>\n      <td>1.0</td>\n    </tr>\n    <tr>\n      <th>1</th>\n      <td>29725</td>\n      <td>city_40</td>\n      <td>0.776</td>\n      <td>Male</td>\n      <td>No relevant experience</td>\n      <td>no_enrollment</td>\n      <td>Graduate</td>\n      <td>STEM</td>\n      <td>15</td>\n      <td>50-99</td>\n      <td>Pvt Ltd</td>\n      <td>&gt;4</td>\n      <td>47</td>\n      <td>0.0</td>\n    </tr>\n    <tr>\n      <th>2</th>\n      <td>11561</td>\n      <td>city_21</td>\n      <td>0.624</td>\n      <td>NaN</td>\n      <td>No relevant experience</td>\n      <td>Full time course</td>\n      <td>Graduate</td>\n      <td>STEM</td>\n      <td>5</td>\n      <td>NaN</td>\n      <td>NaN</td>\n      <td>never</td>\n      <td>83</td>\n      <td>0.0</td>\n    </tr>\n    <tr>\n      <th>3</th>\n      <td>33241</td>\n      <td>city_115</td>\n      <td>0.789</td>\n      <td>NaN</td>\n      <td>No relevant experience</td>\n      <td>NaN</td>\n      <td>Graduate</td>\n      <td>Business Degree</td>\n      <td>&lt;1</td>\n      <td>NaN</td>\n      <td>Pvt Ltd</td>\n      <td>never</td>\n      <td>52</td>\n      <td>1.0</td>\n    </tr>\n    <tr>\n      <th>4</th>\n      <td>666</td>\n      <td>city_162</td>\n      <td>0.767</td>\n      <td>Male</td>\n      <td>Has relevant experience</td>\n      <td>no_enrollment</td>\n      <td>Masters</td>\n      <td>STEM</td>\n      <td>&gt;20</td>\n      <td>50-99</td>\n      <td>Funded Startup</td>\n      <td>4</td>\n      <td>8</td>\n      <td>0.0</td>\n    </tr>\n    <tr>\n      <th>5</th>\n      <td>21651</td>\n      <td>city_176</td>\n      <td>0.764</td>\n      <td>NaN</td>\n      <td>Has relevant experience</td>\n      <td>Part time course</td>\n      <td>Graduate</td>\n      <td>STEM</td>\n      <td>11</td>\n      <td>NaN</td>\n      <td>NaN</td>\n      <td>1</td>\n      <td>24</td>\n      <td>1.0</td>\n    </tr>\n    <tr>\n      <th>6</th>\n      <td>28806</td>\n      <td>city_160</td>\n      <td>0.920</td>\n      <td>Male</td>\n      <td>Has relevant experience</td>\n      <td>no_enrollment</td>\n      <td>High School</td>\n      <td>NaN</td>\n      <td>5</td>\n      <td>50-99</td>\n      <td>Funded Startup</td>\n      <td>1</td>\n      <td>24</td>\n      <td>0.0</td>\n    </tr>\n    <tr>\n      <th>7</th>\n      <td>402</td>\n      <td>city_46</td>\n      <td>0.762</td>\n      <td>Male</td>\n      <td>Has relevant experience</td>\n      <td>no_enrollment</td>\n      <td>Graduate</td>\n      <td>STEM</td>\n      <td>13</td>\n      <td>&lt;10</td>\n      <td>Pvt Ltd</td>\n      <td>&gt;4</td>\n      <td>18</td>\n      <td>1.0</td>\n    </tr>\n    <tr>\n      <th>8</th>\n      <td>27107</td>\n      <td>city_103</td>\n      <td>0.920</td>\n      <td>Male</td>\n      <td>Has relevant experience</td>\n      <td>no_enrollment</td>\n      <td>Graduate</td>\n      <td>STEM</td>\n      <td>7</td>\n      <td>50-99</td>\n      <td>Pvt Ltd</td>\n      <td>1</td>\n      <td>46</td>\n      <td>1.0</td>\n    </tr>\n    <tr>\n      <th>9</th>\n      <td>699</td>\n      <td>city_103</td>\n      <td>0.920</td>\n      <td>NaN</td>\n      <td>Has relevant experience</td>\n      <td>no_enrollment</td>\n      <td>Graduate</td>\n      <td>STEM</td>\n      <td>17</td>\n      <td>10000+</td>\n      <td>Pvt Ltd</td>\n      <td>&gt;4</td>\n      <td>123</td>\n      <td>0.0</td>\n    </tr>\n    <tr>\n      <th>10</th>\n      <td>29452</td>\n      <td>city_21</td>\n      <td>0.624</td>\n      <td>NaN</td>\n      <td>No relevant experience</td>\n      <td>Full time course</td>\n      <td>High School</td>\n      <td>NaN</td>\n      <td>2</td>\n      <td>NaN</td>\n      <td>NaN</td>\n      <td>never</td>\n      <td>32</td>\n      <td>1.0</td>\n    </tr>\n    <tr>\n      <th>11</th>\n      <td>23853</td>\n      <td>city_103</td>\n      <td>0.920</td>\n      <td>Male</td>\n      <td>Has relevant experience</td>\n      <td>no_enrollment</td>\n      <td>Graduate</td>\n      <td>STEM</td>\n      <td>5</td>\n      <td>5000-9999</td>\n      <td>Pvt Ltd</td>\n      <td>1</td>\n      <td>108</td>\n      <td>0.0</td>\n    </tr>\n    <tr>\n      <th>12</th>\n      <td>25619</td>\n      <td>city_61</td>\n      <td>0.913</td>\n      <td>Male</td>\n      <td>Has relevant experience</td>\n      <td>no_enrollment</td>\n      <td>Graduate</td>\n      <td>STEM</td>\n      <td>&gt;20</td>\n      <td>1000-4999</td>\n      <td>Pvt Ltd</td>\n      <td>3</td>\n      <td>23</td>\n      <td>0.0</td>\n    </tr>\n    <tr>\n      <th>13</th>\n      <td>5826</td>\n      <td>city_21</td>\n      <td>0.624</td>\n      <td>Male</td>\n      <td>No relevant experience</td>\n      <td>NaN</td>\n      <td>NaN</td>\n      <td>NaN</td>\n      <td>2</td>\n      <td>NaN</td>\n      <td>NaN</td>\n      <td>never</td>\n      <td>24</td>\n      <td>0.0</td>\n    </tr>\n    <tr>\n      <th>14</th>\n      <td>8722</td>\n      <td>city_21</td>\n      <td>0.624</td>\n      <td>NaN</td>\n      <td>No relevant experience</td>\n      <td>Full time course</td>\n      <td>High School</td>\n      <td>NaN</td>\n      <td>5</td>\n      <td>NaN</td>\n      <td>NaN</td>\n      <td>never</td>\n      <td>26</td>\n      <td>0.0</td>\n    </tr>\n    <tr>\n      <th>15</th>\n      <td>6588</td>\n      <td>city_114</td>\n      <td>0.926</td>\n      <td>Male</td>\n      <td>Has relevant experience</td>\n      <td>no_enrollment</td>\n      <td>Graduate</td>\n      <td>STEM</td>\n      <td>16</td>\n      <td>10-49</td>\n      <td>Pvt Ltd</td>\n      <td>&gt;4</td>\n      <td>18</td>\n      <td>0.0</td>\n    </tr>\n    <tr>\n      <th>16</th>\n      <td>4167</td>\n      <td>city_103</td>\n      <td>0.920</td>\n      <td>NaN</td>\n      <td>Has relevant experience</td>\n      <td>no_enrollment</td>\n      <td>Graduate</td>\n      <td>STEM</td>\n      <td>1</td>\n      <td>50-99</td>\n      <td>Pvt Ltd</td>\n      <td>never</td>\n      <td>106</td>\n      <td>0.0</td>\n    </tr>\n    <tr>\n      <th>17</th>\n      <td>5764</td>\n      <td>city_21</td>\n      <td>0.624</td>\n      <td>NaN</td>\n      <td>Has relevant experience</td>\n      <td>no_enrollment</td>\n      <td>Graduate</td>\n      <td>STEM</td>\n      <td>2</td>\n      <td>5000-9999</td>\n      <td>Pvt Ltd</td>\n      <td>2</td>\n      <td>7</td>\n      <td>0.0</td>\n    </tr>\n    <tr>\n      <th>18</th>\n      <td>2156</td>\n      <td>city_21</td>\n      <td>0.624</td>\n      <td>NaN</td>\n      <td>Has relevant experience</td>\n      <td>no_enrollment</td>\n      <td>Graduate</td>\n      <td>STEM</td>\n      <td>7</td>\n      <td>10000+</td>\n      <td>Pvt Ltd</td>\n      <td>never</td>\n      <td>23</td>\n      <td>1.0</td>\n    </tr>\n    <tr>\n      <th>19</th>\n      <td>11399</td>\n      <td>city_13</td>\n      <td>0.827</td>\n      <td>Female</td>\n      <td>Has relevant experience</td>\n      <td>no_enrollment</td>\n      <td>Graduate</td>\n      <td>Arts</td>\n      <td>4</td>\n      <td>NaN</td>\n      <td>NaN</td>\n      <td>1</td>\n      <td>132</td>\n      <td>1.0</td>\n    </tr>\n  </tbody>\n</table>\n</div>"
     },
     "execution_count": 5,
     "metadata": {},
     "output_type": "execute_result"
    }
   ],
   "source": [
    "ds_jobs_clean.head(20)"
   ],
   "metadata": {
    "collapsed": false
   }
  },
  {
   "cell_type": "code",
   "execution_count": 6,
   "outputs": [
    {
     "data": {
      "text/plain": "student_id                19158\ncity                        123\ncity_development_index       93\ngender                        3\nrelevant_experience           2\nenrolled_university           3\neducation_level               5\nmajor_discipline              6\nexperience                   22\ncompany_size                  8\ncompany_type                  6\nlast_new_job                  6\ntraining_hours              241\njob_change                    2\ndtype: int64"
     },
     "execution_count": 6,
     "metadata": {},
     "output_type": "execute_result"
    }
   ],
   "source": [
    "# findig unique values in each column\n",
    "ds_jobs_clean.nunique()"
   ],
   "metadata": {
    "collapsed": false
   }
  },
  {
   "cell_type": "code",
   "execution_count": 16,
   "outputs": [
    {
     "data": {
      "text/plain": "                                                                     0\ncity                 city_103, city_40, city_21, city_115, city_162...\ngender                                        Male, nan, Female, Other\nrelevant_experience    Has relevant experience, No relevant experience\nenrolled_university  no_enrollment, Full time course, nan, Part tim...\neducation_level      Graduate, Masters, High School, nan, Phd, Prim...\nmajor_discipline     STEM, Business Degree, nan, Arts, Humanities, ...\nexperience           >20, 15, 5, <1, 11, 13, 7, 17, 2, 16, 1, 4, 10...\ncompany_size         nan, 50-99, <10, 10000+, 5000-9999, 1000-4999,...\ncompany_type         nan, Pvt Ltd, Funded Startup, Early Stage Star...\nlast_new_job                                1, >4, never, 4, 3, 2, nan",
      "text/html": "<div>\n<style scoped>\n    .dataframe tbody tr th:only-of-type {\n        vertical-align: middle;\n    }\n\n    .dataframe tbody tr th {\n        vertical-align: top;\n    }\n\n    .dataframe thead th {\n        text-align: right;\n    }\n</style>\n<table border=\"1\" class=\"dataframe\">\n  <thead>\n    <tr style=\"text-align: right;\">\n      <th></th>\n      <th>0</th>\n    </tr>\n  </thead>\n  <tbody>\n    <tr>\n      <th>city</th>\n      <td>city_103, city_40, city_21, city_115, city_162...</td>\n    </tr>\n    <tr>\n      <th>gender</th>\n      <td>Male, nan, Female, Other</td>\n    </tr>\n    <tr>\n      <th>relevant_experience</th>\n      <td>Has relevant experience, No relevant experience</td>\n    </tr>\n    <tr>\n      <th>enrolled_university</th>\n      <td>no_enrollment, Full time course, nan, Part tim...</td>\n    </tr>\n    <tr>\n      <th>education_level</th>\n      <td>Graduate, Masters, High School, nan, Phd, Prim...</td>\n    </tr>\n    <tr>\n      <th>major_discipline</th>\n      <td>STEM, Business Degree, nan, Arts, Humanities, ...</td>\n    </tr>\n    <tr>\n      <th>experience</th>\n      <td>&gt;20, 15, 5, &lt;1, 11, 13, 7, 17, 2, 16, 1, 4, 10...</td>\n    </tr>\n    <tr>\n      <th>company_size</th>\n      <td>nan, 50-99, &lt;10, 10000+, 5000-9999, 1000-4999,...</td>\n    </tr>\n    <tr>\n      <th>company_type</th>\n      <td>nan, Pvt Ltd, Funded Startup, Early Stage Star...</td>\n    </tr>\n    <tr>\n      <th>last_new_job</th>\n      <td>1, &gt;4, never, 4, 3, 2, nan</td>\n    </tr>\n  </tbody>\n</table>\n</div>"
     },
     "execution_count": 16,
     "metadata": {},
     "output_type": "execute_result"
    }
   ],
   "source": [
    "# Select only the categorical columns\n",
    "cat_cols = ds_jobs_clean.select_dtypes(include=['object']).columns\n",
    "\n",
    "# Create an empty DataFrame to store the unique values for each column\n",
    "cat_col_values_df = pd.DataFrame(columns=cat_cols)\n",
    "\n",
    "# Loop over each categorical column\n",
    "for col in cat_cols:\n",
    "    # Find the unique values in the column\n",
    "    unique_values = ds_jobs_clean[col].astype(str).unique()\n",
    "\n",
    "    # Store the unique values in the DataFrame\n",
    "    cat_col_values_df.loc[0, col] = ', '.join(unique_values)\n",
    "\n",
    "# Print the resulting table\n",
    "cat_col_values_df.transpose()\n"
   ],
   "metadata": {
    "collapsed": false
   }
  },
  {
   "cell_type": "markdown",
   "source": [
    "### Handling Data Types"
   ],
   "metadata": {
    "collapsed": false
   }
  },
  {
   "cell_type": "code",
   "execution_count": 17,
   "outputs": [
    {
     "data": {
      "text/plain": "     student_id      city  city_development_index  gender  \\\n9           699  city_103                0.919922     NaN   \n12        25619   city_61                0.913086    Male   \n31        22293  city_103                0.919922    Male   \n34        26494   city_16                0.910156    Male   \n40         2547  city_114                0.925781  Female   \n..          ...       ...                     ...     ...   \n920       28453   city_16                0.910156    Male   \n931        6304  city_103                0.919922    Male   \n933       31368  city_103                0.919922    Male   \n959       21276   city_75                0.938965    Male   \n965       27419   city_21                0.624023     NaN   \n\n         relevant_experience enrolled_university education_level  \\\n9    Has relevant experience       no_enrollment        Graduate   \n12   Has relevant experience       no_enrollment        Graduate   \n31   Has relevant experience    Part time course        Graduate   \n34   Has relevant experience       no_enrollment        Graduate   \n40   Has relevant experience    Full time course         Masters   \n..                       ...                 ...             ...   \n920  Has relevant experience       no_enrollment         Masters   \n931  Has relevant experience    Part time course        Graduate   \n933  Has relevant experience       no_enrollment        Graduate   \n959  Has relevant experience       no_enrollment        Graduate   \n965  Has relevant experience       no_enrollment        Graduate   \n\n    major_discipline experience company_size   company_type last_new_job  \\\n9               STEM         17       10000+        Pvt Ltd           >4   \n12              STEM        >20    1000-4999        Pvt Ltd            3   \n31              STEM         19    5000-9999        Pvt Ltd           >4   \n34   Business Degree         12    5000-9999        Pvt Ltd            3   \n40              STEM         16    1000-4999  Public Sector            2   \n..               ...        ...          ...            ...          ...   \n920             STEM         10       10000+        Pvt Ltd            1   \n931             STEM         19    1000-4999  Public Sector           >4   \n933             STEM         10    1000-4999        Pvt Ltd            1   \n959             STEM        >20       10000+        Pvt Ltd            4   \n965             STEM         15       10000+        Pvt Ltd        never   \n\n     training_hours  job_change  \n9               123           0  \n12               23           0  \n31              141           0  \n34              145           0  \n40               14           0  \n..              ...         ...  \n920              18           0  \n931             142           0  \n933             314           0  \n959              94           0  \n965              17           0  \n\n[100 rows x 14 columns]",
      "text/html": "<div>\n<style scoped>\n    .dataframe tbody tr th:only-of-type {\n        vertical-align: middle;\n    }\n\n    .dataframe tbody tr th {\n        vertical-align: top;\n    }\n\n    .dataframe thead th {\n        text-align: right;\n    }\n</style>\n<table border=\"1\" class=\"dataframe\">\n  <thead>\n    <tr style=\"text-align: right;\">\n      <th></th>\n      <th>student_id</th>\n      <th>city</th>\n      <th>city_development_index</th>\n      <th>gender</th>\n      <th>relevant_experience</th>\n      <th>enrolled_university</th>\n      <th>education_level</th>\n      <th>major_discipline</th>\n      <th>experience</th>\n      <th>company_size</th>\n      <th>company_type</th>\n      <th>last_new_job</th>\n      <th>training_hours</th>\n      <th>job_change</th>\n    </tr>\n  </thead>\n  <tbody>\n    <tr>\n      <th>9</th>\n      <td>699</td>\n      <td>city_103</td>\n      <td>0.919922</td>\n      <td>NaN</td>\n      <td>Has relevant experience</td>\n      <td>no_enrollment</td>\n      <td>Graduate</td>\n      <td>STEM</td>\n      <td>17</td>\n      <td>10000+</td>\n      <td>Pvt Ltd</td>\n      <td>&gt;4</td>\n      <td>123</td>\n      <td>0</td>\n    </tr>\n    <tr>\n      <th>12</th>\n      <td>25619</td>\n      <td>city_61</td>\n      <td>0.913086</td>\n      <td>Male</td>\n      <td>Has relevant experience</td>\n      <td>no_enrollment</td>\n      <td>Graduate</td>\n      <td>STEM</td>\n      <td>&gt;20</td>\n      <td>1000-4999</td>\n      <td>Pvt Ltd</td>\n      <td>3</td>\n      <td>23</td>\n      <td>0</td>\n    </tr>\n    <tr>\n      <th>31</th>\n      <td>22293</td>\n      <td>city_103</td>\n      <td>0.919922</td>\n      <td>Male</td>\n      <td>Has relevant experience</td>\n      <td>Part time course</td>\n      <td>Graduate</td>\n      <td>STEM</td>\n      <td>19</td>\n      <td>5000-9999</td>\n      <td>Pvt Ltd</td>\n      <td>&gt;4</td>\n      <td>141</td>\n      <td>0</td>\n    </tr>\n    <tr>\n      <th>34</th>\n      <td>26494</td>\n      <td>city_16</td>\n      <td>0.910156</td>\n      <td>Male</td>\n      <td>Has relevant experience</td>\n      <td>no_enrollment</td>\n      <td>Graduate</td>\n      <td>Business Degree</td>\n      <td>12</td>\n      <td>5000-9999</td>\n      <td>Pvt Ltd</td>\n      <td>3</td>\n      <td>145</td>\n      <td>0</td>\n    </tr>\n    <tr>\n      <th>40</th>\n      <td>2547</td>\n      <td>city_114</td>\n      <td>0.925781</td>\n      <td>Female</td>\n      <td>Has relevant experience</td>\n      <td>Full time course</td>\n      <td>Masters</td>\n      <td>STEM</td>\n      <td>16</td>\n      <td>1000-4999</td>\n      <td>Public Sector</td>\n      <td>2</td>\n      <td>14</td>\n      <td>0</td>\n    </tr>\n    <tr>\n      <th>...</th>\n      <td>...</td>\n      <td>...</td>\n      <td>...</td>\n      <td>...</td>\n      <td>...</td>\n      <td>...</td>\n      <td>...</td>\n      <td>...</td>\n      <td>...</td>\n      <td>...</td>\n      <td>...</td>\n      <td>...</td>\n      <td>...</td>\n      <td>...</td>\n    </tr>\n    <tr>\n      <th>920</th>\n      <td>28453</td>\n      <td>city_16</td>\n      <td>0.910156</td>\n      <td>Male</td>\n      <td>Has relevant experience</td>\n      <td>no_enrollment</td>\n      <td>Masters</td>\n      <td>STEM</td>\n      <td>10</td>\n      <td>10000+</td>\n      <td>Pvt Ltd</td>\n      <td>1</td>\n      <td>18</td>\n      <td>0</td>\n    </tr>\n    <tr>\n      <th>931</th>\n      <td>6304</td>\n      <td>city_103</td>\n      <td>0.919922</td>\n      <td>Male</td>\n      <td>Has relevant experience</td>\n      <td>Part time course</td>\n      <td>Graduate</td>\n      <td>STEM</td>\n      <td>19</td>\n      <td>1000-4999</td>\n      <td>Public Sector</td>\n      <td>&gt;4</td>\n      <td>142</td>\n      <td>0</td>\n    </tr>\n    <tr>\n      <th>933</th>\n      <td>31368</td>\n      <td>city_103</td>\n      <td>0.919922</td>\n      <td>Male</td>\n      <td>Has relevant experience</td>\n      <td>no_enrollment</td>\n      <td>Graduate</td>\n      <td>STEM</td>\n      <td>10</td>\n      <td>1000-4999</td>\n      <td>Pvt Ltd</td>\n      <td>1</td>\n      <td>314</td>\n      <td>0</td>\n    </tr>\n    <tr>\n      <th>959</th>\n      <td>21276</td>\n      <td>city_75</td>\n      <td>0.938965</td>\n      <td>Male</td>\n      <td>Has relevant experience</td>\n      <td>no_enrollment</td>\n      <td>Graduate</td>\n      <td>STEM</td>\n      <td>&gt;20</td>\n      <td>10000+</td>\n      <td>Pvt Ltd</td>\n      <td>4</td>\n      <td>94</td>\n      <td>0</td>\n    </tr>\n    <tr>\n      <th>965</th>\n      <td>27419</td>\n      <td>city_21</td>\n      <td>0.624023</td>\n      <td>NaN</td>\n      <td>Has relevant experience</td>\n      <td>no_enrollment</td>\n      <td>Graduate</td>\n      <td>STEM</td>\n      <td>15</td>\n      <td>10000+</td>\n      <td>Pvt Ltd</td>\n      <td>never</td>\n      <td>17</td>\n      <td>0</td>\n    </tr>\n  </tbody>\n</table>\n<p>100 rows × 14 columns</p>\n</div>"
     },
     "execution_count": 17,
     "metadata": {},
     "output_type": "execute_result"
    }
   ],
   "source": [
    "# Convert integer columns into int32\n",
    "ds_jobs_clean[[\"student_id\", \"training_hours\", \"job_change\"]] = ds_jobs_clean[[\"student_id\", \"training_hours\", \"job_change\"]].astype(\"int32\")\n",
    "\n",
    "# Convert float column into float16\n",
    "ds_jobs_clean[\"city_development_index\"] = ds_jobs_clean[\"city_development_index\"].astype(\"float16\")\n",
    "\n",
    "# Convert nominal columns into categories\n",
    "ds_jobs_clean[['city', 'gender', 'major_discipline', 'company_type']] = ds_jobs_clean[['city', 'gender', 'major_discipline', 'company_type']].astype(\"category\")\n",
    "\n",
    "# Convert relevant_experience into an ordered category\n",
    "rel_cats = pd.CategoricalDtype(['No relevant experience', 'Has relevant experience'], ordered=True)\n",
    "ds_jobs_clean['relevant_experience'] = ds_jobs_clean['relevant_experience'].astype(rel_cats)\n",
    "\n",
    "# Convert enrolled_university into an ordered category\n",
    "uni_cats = pd.CategoricalDtype(['no_enrollment', 'Part time course', 'Full time course'], ordered=True)\n",
    "ds_jobs_clean['enrolled_university'] = ds_jobs_clean['enrolled_university'].astype(uni_cats)\n",
    "\n",
    "# Convert education_level into an ordered category\n",
    "edu_cats = pd.CategoricalDtype(['Primary School', 'High School', 'Graduate', 'Masters', 'Phd'], ordered=True)\n",
    "ds_jobs_clean['education_level'] = ds_jobs_clean['education_level'].astype(edu_cats)\n",
    "\n",
    "# Convert experience into an ordered category\n",
    "exp_strings_lst = ['<1'] + list(map(str, range(1, 21))) + ['>20']\n",
    "exp_cats = pd.CategoricalDtype(exp_strings_lst, ordered=True)\n",
    "ds_jobs_clean['experience'] = ds_jobs_clean['experience'].astype(exp_cats)\n",
    "\n",
    "# Convert company_size into an ordered category\n",
    "cmp_cats = pd.CategoricalDtype(['<10', '10-49', '50-99', '100-499', '500-999', '1000-4999', '5000-9999', '10000+'], ordered=True)\n",
    "ds_jobs_clean['company_size'] = ds_jobs_clean['company_size'].astype(cmp_cats)\n",
    "\n",
    "# Convert last_new_job into an ordered category\n",
    "job_cats = pd.CategoricalDtype(['never', '1', '2', '3', '4', '>4'], ordered=True)\n",
    "ds_jobs_clean['last_new_job'] = ds_jobs_clean['last_new_job'].astype(job_cats)\n",
    "\n",
    "# Filter students with 10 or more years experience at companies with at least 1000 employees\n",
    "ds_jobs_clean = ds_jobs_clean[(ds_jobs_clean['experience'] >= '10') & (ds_jobs_clean['company_size'] >= '1000-4999')]\n",
    "ds_jobs_clean.head(100)\n"
   ],
   "metadata": {
    "collapsed": false
   }
  },
  {
   "cell_type": "code",
   "execution_count": null,
   "outputs": [],
   "source": [],
   "metadata": {
    "collapsed": false
   }
  }
 ],
 "metadata": {
  "language_info": {
   "name": "python",
   "version": "3.8.10",
   "mimetype": "text/x-python",
   "codemirror_mode": {
    "name": "ipython",
    "version": 3
   },
   "pygments_lexer": "ipython3",
   "nbconvert_exporter": "python",
   "file_extension": ".py"
  },
  "kernelspec": {
   "display_name": "Python 3 (ipykernel)",
   "language": "python",
   "name": "python3"
  },
  "editor": "DataCamp Workspace"
 },
 "nbformat": 4,
 "nbformat_minor": 5
}
